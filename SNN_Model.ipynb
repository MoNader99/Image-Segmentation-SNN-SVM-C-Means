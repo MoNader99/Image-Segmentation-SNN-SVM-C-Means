{
  "nbformat": 4,
  "nbformat_minor": 0,
  "metadata": {
    "accelerator": "TPU",
    "colab": {
      "name": "SVM_Model.ipynb",
      "provenance": [],
      "collapsed_sections": []
    },
    "kernelspec": {
      "display_name": "Python 3",
      "language": "python",
      "name": "python3"
    },
    "language_info": {
      "codemirror_mode": {
        "name": "ipython",
        "version": 3
      },
      "file_extension": ".py",
      "mimetype": "text/x-python",
      "name": "python",
      "nbconvert_exporter": "python",
      "pygments_lexer": "ipython3",
      "version": "3.7.6"
    }
  },
  "cells": [
    {
      "cell_type": "code",
      "metadata": {
        "id": "cKNhXOyJ1az0"
      },
      "source": [
        "from skimage import io\n",
        "from skimage.transform import resize\n",
        "import math \n",
        "import pickle \n",
        "from sklearn.model_selection import train_test_split\n",
        "from sklearn.preprocessing import  OneHotEncoder\n",
        "import matplotlib.pyplot as plt\n",
        "import numpy as np\n",
        "import pandas as pd\n",
        "import random\n",
        "import os \n",
        "import cv2 "
      ],
      "execution_count": 1,
      "outputs": []
    },
    {
      "cell_type": "code",
      "metadata": {
        "id": "3Az1HAFB1gNQ",
        "colab": {
          "base_uri": "https://localhost:8080/"
        },
        "outputId": "f05e05d8-a8a8-4ae5-a4ac-4713bc02f9ed"
      },
      "source": [
        "from google.colab import drive\n",
        "drive.mount('/content/drive/')"
      ],
      "execution_count": 2,
      "outputs": [
        {
          "output_type": "stream",
          "text": [
            "Mounted at /content/drive/\n"
          ],
          "name": "stdout"
        }
      ]
    },
    {
      "cell_type": "code",
      "metadata": {
        "id": "uOuimpXQlQon"
      },
      "source": [
        "import numpy as np\n",
        "\n",
        "def sigmoid(s):\n",
        "    return 1/(1 + np.exp(-s))\n",
        "\n",
        "def sigmoid_derv(s):\n",
        "    return s * (1 - s)\n",
        "\n",
        "def softmax(s):\n",
        "    exps = np.exp(s - np.max(s, axis=1, keepdims=True))\n",
        "    return exps/np.sum(exps, axis=1, keepdims=True)\n",
        "\n",
        "def cross_entropy(pred, real):\n",
        "    n_samples = real.shape[0]\n",
        "    res = pred - real\n",
        "    return res/n_samples\n",
        "\n",
        "def error(pred, real):\n",
        "    n_samples = real.shape[0]\n",
        "    logp = - np.log(pred[np.arange(n_samples), real.argmax(axis=1)])\n",
        "    loss = np.sum(logp)/n_samples\n",
        "    return loss\n",
        "\n",
        "class MyNN:\n",
        "    def __init__(self, x, y):\n",
        "        self.x = x\n",
        "        neurons = 128\n",
        "        self.lr = 0.07\n",
        "        ip_dim = x.shape[1]\n",
        "        op_dim = y.shape[1]\n",
        "\n",
        "        self.w1 = np.random.randn(ip_dim, neurons)\n",
        "        self.b1 = np.zeros((1, neurons))\n",
        "        self.w2 = np.random.randn(neurons, op_dim)\n",
        "        self.b2 = np.zeros((1, op_dim))\n",
        "        self.y = y\n",
        "\n",
        "    def feedforward(self):\n",
        "        z1 = np.dot(self.x, self.w1) + self.b1\n",
        "        self.a1 = sigmoid(z1)\n",
        "        z2 = np.dot(self.a1, self.w2) + self.b2\n",
        "        self.a2 = softmax(z2)\n",
        "        \n",
        "    def backprop(self):\n",
        "        loss = error(self.a2, self.y)\n",
        "        # print('Error :', loss)\n",
        "        a2_delta = cross_entropy(self.a2, self.y) # w2\n",
        "        z1_delta = np.dot(a2_delta, self.w2.T)\n",
        "        a1_delta = z1_delta * sigmoid_derv(self.a1) # w1\n",
        "\n",
        "        self.w2 -= self.lr * np.dot(self.a1.T, a2_delta)\n",
        "        self.b2 -= self.lr * np.sum(a2_delta, axis=0, keepdims=True)\n",
        "        self.w1 -= self.lr * np.dot(self.x.T, a1_delta)\n",
        "        self.b1 -= self.lr * np.sum(a1_delta, axis=0)\n",
        "\n",
        "    def predict(self, data):\n",
        "        predected = []\n",
        "        for i in data:\n",
        "            self.x = i\n",
        "            self.feedforward()\n",
        "            predected.append(self.a2.argmax())\n",
        "        return predected\n",
        "\n",
        "\n",
        "# https://towardsdatascience.com/neural-networks-from-scratch-easy-vs-hard-b26ddc2e89c7"
      ],
      "execution_count": 3,
      "outputs": []
    },
    {
      "cell_type": "code",
      "metadata": {
        "id": "yF4Cw9hz1az5"
      },
      "source": [
        "def load_images_from_folder(folder):\n",
        "    images = []\n",
        "    for filename in os.listdir(folder):\n",
        "        img = resize(io.imread(os.path.join(folder,filename)),(64,64),anti_aliasing=True,preserve_range=True)\n",
        "        if img is not None:\n",
        "            images.append(img)\n",
        "    return np.array(images)"
      ],
      "execution_count": 4,
      "outputs": []
    },
    {
      "cell_type": "code",
      "metadata": {
        "id": "wmyqGtY81az7"
      },
      "source": [
        "path = 'content/drive/MyDrive/segmentation_WBC/SVM_Segmentation/'\n",
        "\n",
        "outerCells  = load_images_from_folder('/content/drive/MyDrive/segmentation_WBC/SVM_Segmentation/outer_cell')\n",
        "innerCells  = load_images_from_folder('/content/drive/MyDrive/segmentation_WBC/SVM_Segmentation/inner_cell')\n",
        "backgrounds = load_images_from_folder('/content/drive/MyDrive/segmentation_WBC/SVM_Segmentation/background')"
      ],
      "execution_count": 6,
      "outputs": []
    },
    {
      "cell_type": "code",
      "metadata": {
        "id": "d7OuT7Fs1az7"
      },
      "source": [
        "x_train = []\n",
        "\n",
        "for j in range(len(outerCells)):\n",
        "    x_train.append(outerCells[j])\n",
        "    x_train.append(innerCells[j])\n",
        "    x_train.append(backgrounds[j])\n",
        "\n",
        "x_train = np.array(x_train)\n"
      ],
      "execution_count": 7,
      "outputs": []
    },
    {
      "cell_type": "code",
      "metadata": {
        "id": "xJDY3MMRl4l5"
      },
      "source": [
        "feature_vectors = []\n",
        "for i in x_train:\n",
        "    feature_vectors.append(np.float32(i)/255)\n",
        "\n",
        "feature_vectors = np.array(feature_vectors)"
      ],
      "execution_count": 8,
      "outputs": []
    },
    {
      "cell_type": "code",
      "metadata": {
        "id": "3qxSb3tU1az9"
      },
      "source": [
        "data = pd.DataFrame(columns=['R','G','B','class'])\n",
        "for i in range(len(x_train)):\n",
        "    if (i) % 3 == 0:\n",
        "        data = data.append(pd.DataFrame(np.insert(feature_vectors[i].reshape(-1,3),3,1,axis=1),columns=['R','G','B','class']))\n",
        "    if (i) % 3 == 1:\n",
        "        data = data.append(pd.DataFrame(np.insert(feature_vectors[i].reshape(-1,3),3,2,axis=1),columns=['R','G','B','class']))\n",
        "    if (i) % 3 == 2:\n",
        "        data = data.append(pd.DataFrame(np.insert(feature_vectors[i].reshape(-1,3),3,3,axis=1),columns=['R','G','B','class']))\n",
        "data = data.reset_index()\n",
        "data = data.drop(['index'],axis=1)"
      ],
      "execution_count": 9,
      "outputs": []
    },
    {
      "cell_type": "code",
      "metadata": {
        "id": "lAA1mXgB1a0A",
        "colab": {
          "base_uri": "https://localhost:8080/"
        },
        "outputId": "8e0d1561-7a0d-40ae-b333-d22aa496395f"
      },
      "source": [
        "y = data['class'].values\n",
        "x = data.iloc[:,[0,1,2]].values\n",
        "\n",
        "x.shape"
      ],
      "execution_count": 10,
      "outputs": [
        {
          "output_type": "execute_result",
          "data": {
            "text/plain": [
              "(368640, 3)"
            ]
          },
          "metadata": {
            "tags": []
          },
          "execution_count": 10
        }
      ]
    },
    {
      "cell_type": "code",
      "metadata": {
        "colab": {
          "base_uri": "https://localhost:8080/"
        },
        "id": "lML5dIsslyfs",
        "outputId": "1b9e8405-b2c4-40ac-ff45-0da24ae39b90"
      },
      "source": [
        "oneHot = OneHotEncoder()\n",
        "y = oneHot.fit_transform(y.reshape(-1,1)).toarray()\n",
        "y.shape"
      ],
      "execution_count": 11,
      "outputs": [
        {
          "output_type": "execute_result",
          "data": {
            "text/plain": [
              "(368640, 3)"
            ]
          },
          "metadata": {
            "tags": []
          },
          "execution_count": 11
        }
      ]
    },
    {
      "cell_type": "code",
      "metadata": {
        "id": "xHY-FVtT1a0B"
      },
      "source": [
        "model = MyNN(x, np.array(y))\n",
        "\n",
        "epochs = 50\n",
        "for x in range(epochs):\n",
        "    model.feedforward()\n",
        "    model.backprop()\n"
      ],
      "execution_count": 12,
      "outputs": []
    },
    {
      "cell_type": "code",
      "metadata": {
        "id": "8L5UVaKdvQUt"
      },
      "source": [
        "#with open('SNN_Model_Pickle','wb') as f:\n",
        "#    pickle.dump(model,f)"
      ],
      "execution_count": 21,
      "outputs": []
    },
    {
      "cell_type": "code",
      "metadata": {
        "id": "WeMVs3LfmvGR"
      },
      "source": [
        "x_tested = io.imread('/content/drive/MyDrive/segmentation_WBC/Dataset 2/006.bmp')\n",
        "pixel_values = np.float32(x_tested)/255\n",
        "x_tested = np.array(pixel_values)\n",
        "\n",
        "testclass = pd.DataFrame(columns = ['R','G','B'])\n",
        "testclass = testclass.append(pd.DataFrame(x_tested.reshape(-1,3),columns = ['R','G','B']))\n",
        "\n",
        "x_tested = testclass.iloc[:,:].values\n",
        "\n",
        "y_pred = model.predict(x_tested)\n",
        "y_pred = np.array(y_pred)"
      ],
      "execution_count": 17,
      "outputs": []
    },
    {
      "cell_type": "code",
      "metadata": {
        "id": "RUn07yyltXpL"
      },
      "source": [
        "cluster_mean  = []\n",
        "cluster_mean2 = []\n",
        "cluster_mean3 = []\n",
        "\n",
        "for i in range(len(x_tested)):\n",
        "  if y_pred[i] == 0:\n",
        "    cluster_mean.append(x_tested[i])\n",
        "  if y_pred[i] == 1:\n",
        "    cluster_mean2.append(x_tested[i])\n",
        "  if y_pred[i] == 2:\n",
        "    cluster_mean3.append(x_tested[i])\n",
        "  \n",
        "cluster_mean = np.mean(cluster_mean,axis=0)\n",
        "cluster_mean2 = np.mean(cluster_mean2,axis=0)\n",
        "cluster_mean3 = np.mean(cluster_mean3,axis=0)\n"
      ],
      "execution_count": 18,
      "outputs": []
    },
    {
      "cell_type": "code",
      "metadata": {
        "id": "EiPsgJLMtho8"
      },
      "source": [
        "y_pred.reshape(-1,1)\n",
        "y_mean = []\n",
        "for i in y_pred:\n",
        "    if i == 0:\n",
        "        y_mean.append(cluster_mean)\n",
        "    if i == 1:\n",
        "        y_mean.append(cluster_mean2)\n",
        "    if i == 2:\n",
        "        y_mean.append(cluster_mean3)\n",
        "        \n",
        "y_mean = np.array(y_mean)"
      ],
      "execution_count": 19,
      "outputs": []
    },
    {
      "cell_type": "code",
      "metadata": {
        "colab": {
          "base_uri": "https://localhost:8080/",
          "height": 221
        },
        "id": "UYzAm_95r-bt",
        "outputId": "750efd9a-4478-4f3d-9215-502e389a3eb8"
      },
      "source": [
        "reshape_vale=int(math.sqrt(y_pred.shape[0]))\n",
        "\n",
        "y_mean = y_mean.reshape(reshape_vale,reshape_vale,3)\n",
        "\n",
        "plt.subplot(1,2,1)\n",
        "plt.imshow(y_mean)\n",
        "\n",
        "plt.subplot(1,2,2)\n",
        "plt.imshow(io.imread('/content/drive/MyDrive/segmentation_WBC/Dataset 2/006.bmp'))"
      ],
      "execution_count": 20,
      "outputs": [
        {
          "output_type": "execute_result",
          "data": {
            "text/plain": [
              "<matplotlib.image.AxesImage at 0x7f906f2f2650>"
            ]
          },
          "metadata": {
            "tags": []
          },
          "execution_count": 20
        },
        {
          "output_type": "display_data",
          "data": {
            "image/png": "[encoded data removed]",
            "text/plain": [
              "<Figure size 432x288 with 2 Axes>"
            ]
          },
          "metadata": {
            "tags": [],
            "needs_background": "light"
          }
        }
      ]
    },
    {
      "cell_type": "code",
      "metadata": {
        "id": "jr_TOJ0Zv7l_"
      },
      "source": [],
      "execution_count": null,
      "outputs": []
    }
  ]
}
