{
  "nbformat": 4,
  "nbformat_minor": 0,
  "metadata": {
    "accelerator": "TPU",
    "colab": {
      "name": "Untitled.ipynb",
      "provenance": [],
      "collapsed_sections": []
    },
    "kernelspec": {
      "name": "python3",
      "display_name": "Python 3.7.6 64-bit ('base': conda)"
    },
    "language_info": {
      "codemirror_mode": {
        "name": "ipython",
        "version": 3
      },
      "file_extension": ".py",
      "mimetype": "text/x-python",
      "name": "python",
      "nbconvert_exporter": "python",
      "pygments_lexer": "ipython3",
      "version": "3.7.6"
    }
  },
  "cells": [
    {
      "cell_type": "code",
      "metadata": {
        "id": "cKNhXOyJ1az0"
      },
      "source": [
        "import numpy as np\n",
        "import pandas as pd\n",
        "\n",
        "from skimage import io\n",
        "from skimage.transform import resize\n",
        "from skimage.color import rgb2gray\n",
        "\n",
        "from sklearn import svm\n",
        "from sklearn.model_selection import GridSearchCV\n",
        "\n",
        "import matplotlib.pyplot as plt\n",
        "import os \n",
        "\n",
        "from sklearn.model_selection import train_test_split\n",
        "from sklearn.metrics import classification_report, confusion_matrix\n",
        "\n",
        "import cv2\n",
        "import math \n",
        "\n",
        "import pickle \n",
        "\n",
        "from sklearn.metrics import classification_report, confusion_matrix , accuracy_score"
      ],
      "execution_count": 69,
      "outputs": []
    },
    {
      "cell_type": "code",
      "metadata": {
        "id": "3Az1HAFB1gNQ",
        "colab": {
          "base_uri": "https://localhost:8080/"
        },
        "outputId": "1635f0a0-40fb-4fe8-e73e-9a6ea38926fc"
      },
      "source": [
        "from google.colab import drive\n",
        "drive.mount('/content/drive/')"
      ],
      "execution_count": 39,
      "outputs": [
        {
          "output_type": "stream",
          "text": [
            "Drive already mounted at /content/drive/; to attempt to forcibly remount, call drive.mount(\"/content/drive/\", force_remount=True).\n"
          ],
          "name": "stdout"
        }
      ]
    },
    {
      "cell_type": "code",
      "metadata": {
        "id": "yF4Cw9hz1az5"
      },
      "source": [
        "def load_images_from_folder(folder):\n",
        "    images = []\n",
        "    for filename in os.listdir(folder):\n",
        "        img = resize(io.imread(os.path.join(folder,filename)),(64,64),anti_aliasing=True,preserve_range=True)\n",
        "        if img is not None:\n",
        "            images.append(img)\n",
        "    return np.array(images)"
      ],
      "execution_count": 40,
      "outputs": []
    },
    {
      "cell_type": "code",
      "metadata": {
        "id": "wmyqGtY81az7"
      },
      "source": [
        "path = 'content/drive/MyDrive/segmentation_WBC/SVM_Segmentation/'\n",
        "\n",
        "outerCells  = load_images_from_folder('/content/drive/MyDrive/New folder/outer_cell')\n",
        "innerCells  = load_images_from_folder('/content/drive/MyDrive/New folder/inner_cell')\n",
        "backgrounds = load_images_from_folder('/content/drive/MyDrive/New folder/background')"
      ],
      "execution_count": 41,
      "outputs": []
    },
    {
      "cell_type": "code",
      "metadata": {
        "id": "d7OuT7Fs1az7"
      },
      "source": [
        "x_train = []\n",
        "\n",
        "for j in range(len(outerCells)):\n",
        "    x_train.append(outerCells[j])\n",
        "    x_train.append(innerCells[j])\n",
        "    x_train.append(backgrounds[j])\n",
        "\n",
        "x_train = np.array(x_train)\n"
      ],
      "execution_count": 42,
      "outputs": []
    },
    {
      "cell_type": "code",
      "metadata": {
        "id": "xJDY3MMRl4l5"
      },
      "source": [
        "feature_vectors = []\n",
        "for i in x_train:\n",
        "    feature_vectors.append(np.float32(i)/255)\n",
        "\n",
        "feature_vectors = np.array(feature_vectors)"
      ],
      "execution_count": 43,
      "outputs": []
    },
    {
      "cell_type": "code",
      "metadata": {
        "id": "3qxSb3tU1az9"
      },
      "source": [
        "data = pd.DataFrame(columns=['R','G','B','class'])\n",
        "for i in range(len(x_train)):\n",
        "    if (i) % 3 == 0:\n",
        "        data = data.append(pd.DataFrame(np.insert(feature_vectors[i].reshape(-1,3),3,1,axis=1),columns=['R','G','B','class']))\n",
        "    if (i) % 3 == 1:\n",
        "        data = data.append(pd.DataFrame(np.insert(feature_vectors[i].reshape(-1,3),3,2,axis=1),columns=['R','G','B','class']))\n",
        "    if (i) % 3 == 2:\n",
        "        data = data.append(pd.DataFrame(np.insert(feature_vectors[i].reshape(-1,3),3,3,axis=1),columns=['R','G','B','class']))\n",
        "data = data.reset_index()\n",
        "data = data.drop(['index'],axis=1)"
      ],
      "execution_count": 44,
      "outputs": []
    },
    {
      "cell_type": "code",
      "metadata": {
        "id": "lAA1mXgB1a0A"
      },
      "source": [
        "y = data['class'].values\n",
        "x = data.iloc[:,[0,1,2]].values"
      ],
      "execution_count": 45,
      "outputs": []
    },
    {
      "cell_type": "code",
      "metadata": {
        "colab": {
          "base_uri": "https://localhost:8080/"
        },
        "id": "xHY-FVtT1a0B",
        "outputId": "5c3375cb-2e8d-4271-d64c-7069c3ceea12"
      },
      "source": [
        "# parameter = [\n",
        "#     {'C':[1,10,100,1000],'kernel':['linear']},\n",
        "# ]\n",
        "# clf = GridSearchCV(estimator = svm.SVC(), param_grid = parameter ,n_jobs = -1)\n",
        "\n",
        "# clf.fit(x,y)\n",
        "\n",
        "# print(\"best score is \", clf.best_score_)\n",
        "# print('best \"c\" is ', clf.best_estimator_.C)\n",
        "# print('best kernel is ',clf.best_estimator_.kernel)\n",
        "# print('best gamma is ',clf.best_estimator_.gamma)\n",
        "\n",
        "clf = svm.SVC(C=100,kernel='linear',gamma=\"scale\")\n",
        "clf.fit(x,y)"
      ],
      "execution_count": 46,
      "outputs": [
        {
          "output_type": "execute_result",
          "data": {
            "text/plain": [
              "SVC(C=100, break_ties=False, cache_size=200, class_weight=None, coef0=0.0,\n",
              "    decision_function_shape='ovr', degree=3, gamma='scale', kernel='linear',\n",
              "    max_iter=-1, probability=False, random_state=None, shrinking=True,\n",
              "    tol=0.001, verbose=False)"
            ]
          },
          "metadata": {
            "tags": []
          },
          "execution_count": 46
        }
      ]
    },
    {
      "cell_type": "code",
      "metadata": {
        "id": "4qMPAZfPr-tU"
      },
      "source": [
        "#with open('SVM_Model_Pickle','wb') as f:\n",
        "    #pickle.dump(clf,f)"
      ],
      "execution_count": 66,
      "outputs": []
    },
    {
      "cell_type": "code",
      "metadata": {
        "id": "fO8ev_WC1a0C"
      },
      "source": [
        "imagePathDataset2 = '/content/drive/MyDrive/segmentation_WBC/Dataset 2/'\n",
        "imagePathDataset1 = '/content/drive/MyDrive/segmentation_WBC/Dataset 1/'\n",
        "x_test = io.imread('/content/drive/MyDrive/segmentation_WBC/Dataset 1/025.bmp')\n",
        "pixel_values = np.float32(x_test)/255\n",
        "x_test = np.array(pixel_values)\n",
        "\n",
        "testclass = pd.DataFrame(columns = ['R','G','B'])\n",
        "testclass = testclass.append(pd.DataFrame(x_test.reshape(-1,3),columns = ['R','G','B']))\n",
        "\n",
        "x_test = testclass.iloc[:,:].values\n",
        "\n",
        "y_pred = clf.predict(x_test)"
      ],
      "execution_count": 71,
      "outputs": []
    },
    {
      "cell_type": "code",
      "metadata": {
        "id": "pcN7q-pc1a0D"
      },
      "source": [
        "cluster_mean  = []\n",
        "cluster_mean2 = []\n",
        "cluster_mean3 = []\n",
        "\n",
        "for i in range(len(x_test)):\n",
        "  if y_pred[i] == 1:\n",
        "    cluster_mean.append(x_test[i])\n",
        "  if y_pred[i] == 2:\n",
        "    cluster_mean2.append(x_test[i])\n",
        "  if y_pred[i] == 3:\n",
        "    cluster_mean3.append(x_test[i])\n",
        "  \n",
        "cluster_mean = np.mean(cluster_mean,axis=0)\n",
        "cluster_mean2 = np.mean(cluster_mean2,axis=0)\n",
        "cluster_mean3 = np.mean(cluster_mean3,axis=0)\n",
        "\n",
        "\n"
      ],
      "execution_count": 72,
      "outputs": []
    },
    {
      "cell_type": "code",
      "metadata": {
        "id": "gGlhUqy91a0E"
      },
      "source": [
        "y_pred.reshape(-1,1)\n",
        "y_mean = []\n",
        "for i in y_pred:\n",
        "    if i == 1:\n",
        "        y_mean.append(cluster_mean)\n",
        "    if i == 2:\n",
        "        y_mean.append(cluster_mean2)\n",
        "    if i == 3:\n",
        "        y_mean.append(cluster_mean3)\n",
        "        \n",
        "y_mean = np.array(y_mean)"
      ],
      "execution_count": 73,
      "outputs": []
    },
    {
      "cell_type": "code",
      "metadata": {
        "colab": {
          "base_uri": "https://localhost:8080/",
          "height": 220
        },
        "id": "hrRI2yLq1a0F",
        "outputId": "9a2795e8-2351-4e1a-eb92-4fb92b0137ab"
      },
      "source": [
        "# np.unique(y_pred,return_counts=True)\n",
        "reshape_vale=int(math.sqrt(y_pred.shape[0]))\n",
        "\n",
        "y_mean = y_mean.reshape(reshape_vale,reshape_vale,3)\n",
        "\n",
        "plt.subplot(1,2,1)\n",
        "plt.imshow(y_mean)\n",
        "\n",
        "plt.subplot(1,2,2)\n",
        "plt.imshow(io.imread('/content/drive/MyDrive/segmentation_WBC/Dataset 1/025.bmp'))\n"
      ],
      "execution_count": 74,
      "outputs": [
        {
          "output_type": "execute_result",
          "data": {
            "text/plain": [
              "<matplotlib.image.AxesImage at 0x7f04a4151dd0>"
            ]
          },
          "metadata": {
            "tags": []
          },
          "execution_count": 74
        },
        {
          "output_type": "display_data",
          "data": {
            "image/png": "[encoded data removed]",
            "text/plain": [
              "<Figure size 432x288 with 2 Axes>"
            ]
          },
          "metadata": {
            "tags": [],
            "needs_background": "light"
          }
        }
      ]
    },
    {
      "cell_type": "code",
      "metadata": {
        "id": "dIsp9qqU1a0F"
      },
      "source": [
        "0%10 "
      ],
      "execution_count": 3,
      "outputs": [
        {
          "output_type": "execute_result",
          "data": {
            "text/plain": [
              "0"
            ]
          },
          "metadata": {},
          "execution_count": 3
        }
      ]
    },
    {
      "cell_type": "code",
      "execution_count": null,
      "metadata": {},
      "outputs": [],
      "source": []
    }
  ]
}
